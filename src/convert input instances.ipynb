{
 "cells": [
  {
   "cell_type": "code",
   "execution_count": 1,
   "metadata": {},
   "outputs": [],
   "source": [
    "import pandas as pd\n",
    "import numpy as np\n",
    "import glob\n",
    "import matplotlib.pyplot as plt\n",
    "import os\n",
    "import math\n",
    "import time"
   ]
  },
  {
   "cell_type": "markdown",
   "metadata": {},
   "source": [
    "# Description\n",
    "\n",
    "## 1. Statistics\n",
    "- Number of vehicles\n",
    "- Tightness of time window "
   ]
  },
  {
   "cell_type": "code",
   "execution_count": 2,
   "metadata": {},
   "outputs": [],
   "source": [
    "Homberger = glob.glob(\"instances/Homberger/*.TXT\")\n",
    "Solomon = glob.glob(\"instances/Solomon/*.txt\")"
   ]
  },
  {
   "cell_type": "code",
   "execution_count": 3,
   "metadata": {},
   "outputs": [],
   "source": [
    "file_list = Homberger + Solomon"
   ]
  },
  {
   "cell_type": "code",
   "execution_count": 4,
   "metadata": {},
   "outputs": [],
   "source": [
    "#file = \"instances/Homberger/C1_2_1.TXT\"\n",
    "file = \"instances/toy.txt\""
   ]
  },
  {
   "cell_type": "code",
   "execution_count": 5,
   "metadata": {},
   "outputs": [],
   "source": [
    "def stats_instance(file):\n",
    "    content = []\n",
    "    f = open(file,\"r\")\n",
    "    for x in f:\n",
    "        content.append(x)\n",
    "    instance_name = content[0] #name of the instance\n",
    "    V, Q = content[4].split() #V is the number of vehicles, Q is the vehicle capacity.\n",
    "    V = int(V); Q = int(Q)\n",
    "    header = ['CUST NO.', 'XCOORD.', 'YCOORD.', 'DEMAND', 'READY TIME', 'DUE DATE', 'SERVICE TIME']\n",
    "    df = pd.DataFrame([x.split() for x in content[9:]], columns=header)\n",
    "    col_list = ['XCOORD.', 'YCOORD.', 'DEMAND', 'READY TIME', 'DUE DATE', 'SERVICE TIME']\n",
    "    df[col_list] = df[col_list].astype('int')\n",
    "    return V, Q, df"
   ]
  },
  {
   "cell_type": "code",
   "execution_count": 6,
   "metadata": {},
   "outputs": [],
   "source": [
    "V, Q, df = stats_instance(file)"
   ]
  },
  {
   "cell_type": "code",
   "execution_count": 7,
   "metadata": {},
   "outputs": [
    {
     "data": {
      "text/html": [
       "<div>\n",
       "<style scoped>\n",
       "    .dataframe tbody tr th:only-of-type {\n",
       "        vertical-align: middle;\n",
       "    }\n",
       "\n",
       "    .dataframe tbody tr th {\n",
       "        vertical-align: top;\n",
       "    }\n",
       "\n",
       "    .dataframe thead th {\n",
       "        text-align: right;\n",
       "    }\n",
       "</style>\n",
       "<table border=\"1\" class=\"dataframe\">\n",
       "  <thead>\n",
       "    <tr style=\"text-align: right;\">\n",
       "      <th></th>\n",
       "      <th>CUST NO.</th>\n",
       "      <th>XCOORD.</th>\n",
       "      <th>YCOORD.</th>\n",
       "      <th>DEMAND</th>\n",
       "      <th>READY TIME</th>\n",
       "      <th>DUE DATE</th>\n",
       "      <th>SERVICE TIME</th>\n",
       "    </tr>\n",
       "  </thead>\n",
       "  <tbody>\n",
       "    <tr>\n",
       "      <th>0</th>\n",
       "      <td>0</td>\n",
       "      <td>50</td>\n",
       "      <td>50</td>\n",
       "      <td>0</td>\n",
       "      <td>0</td>\n",
       "      <td>200</td>\n",
       "      <td>0</td>\n",
       "    </tr>\n",
       "    <tr>\n",
       "      <th>1</th>\n",
       "      <td>1</td>\n",
       "      <td>35</td>\n",
       "      <td>65</td>\n",
       "      <td>10</td>\n",
       "      <td>45</td>\n",
       "      <td>50</td>\n",
       "      <td>10</td>\n",
       "    </tr>\n",
       "    <tr>\n",
       "      <th>2</th>\n",
       "      <td>2</td>\n",
       "      <td>30</td>\n",
       "      <td>55</td>\n",
       "      <td>30</td>\n",
       "      <td>50</td>\n",
       "      <td>80</td>\n",
       "      <td>10</td>\n",
       "    </tr>\n",
       "    <tr>\n",
       "      <th>3</th>\n",
       "      <td>3</td>\n",
       "      <td>40</td>\n",
       "      <td>45</td>\n",
       "      <td>10</td>\n",
       "      <td>0</td>\n",
       "      <td>20</td>\n",
       "      <td>10</td>\n",
       "    </tr>\n",
       "    <tr>\n",
       "      <th>4</th>\n",
       "      <td>4</td>\n",
       "      <td>55</td>\n",
       "      <td>70</td>\n",
       "      <td>20</td>\n",
       "      <td>0</td>\n",
       "      <td>100</td>\n",
       "      <td>10</td>\n",
       "    </tr>\n",
       "    <tr>\n",
       "      <th>5</th>\n",
       "      <td>5</td>\n",
       "      <td>75</td>\n",
       "      <td>50</td>\n",
       "      <td>10</td>\n",
       "      <td>50</td>\n",
       "      <td>70</td>\n",
       "      <td>10</td>\n",
       "    </tr>\n",
       "    <tr>\n",
       "      <th>6</th>\n",
       "      <td>6</td>\n",
       "      <td>54</td>\n",
       "      <td>35</td>\n",
       "      <td>20</td>\n",
       "      <td>17</td>\n",
       "      <td>20</td>\n",
       "      <td>10</td>\n",
       "    </tr>\n",
       "  </tbody>\n",
       "</table>\n",
       "</div>"
      ],
      "text/plain": [
       "  CUST NO.  XCOORD.  YCOORD.  DEMAND  READY TIME  DUE DATE  SERVICE TIME\n",
       "0        0       50       50       0           0       200             0\n",
       "1        1       35       65      10          45        50            10\n",
       "2        2       30       55      30          50        80            10\n",
       "3        3       40       45      10           0        20            10\n",
       "4        4       55       70      20           0       100            10\n",
       "5        5       75       50      10          50        70            10\n",
       "6        6       54       35      20          17        20            10"
      ]
     },
     "execution_count": 7,
     "metadata": {},
     "output_type": "execute_result"
    }
   ],
   "source": [
    "df"
   ]
  },
  {
   "cell_type": "code",
   "execution_count": 8,
   "metadata": {},
   "outputs": [],
   "source": [
    "df['CUST NO.'] = range(1, len(df)+1)"
   ]
  },
  {
   "cell_type": "code",
   "execution_count": 9,
   "metadata": {},
   "outputs": [],
   "source": [
    "def make_path(directory_name): # make path if not exist\n",
    "    if not os.path.exists(directory_name):\n",
    "        os.makedirs(directory_name)\n",
    "make_path('data/map'); make_path('data/requests'); make_path('data/vehicles')"
   ]
  },
  {
   "cell_type": "code",
   "execution_count": 10,
   "metadata": {},
   "outputs": [],
   "source": [
    "# extract nodes\n",
    "df[['CUST NO.', 'XCOORD.', 'YCOORD.']].to_csv('data/map/nodes.csv', header=False, index=False) \n",
    "# TODO: we encode cust no+1, it needs decode later"
   ]
  },
  {
   "cell_type": "code",
   "execution_count": 11,
   "metadata": {},
   "outputs": [],
   "source": [
    "# extract edges\n",
    "nodes_df = df[['CUST NO.', 'XCOORD.', 'YCOORD.']].set_index('CUST NO.')"
   ]
  },
  {
   "cell_type": "code",
   "execution_count": 12,
   "metadata": {},
   "outputs": [],
   "source": [
    "def Euclidean(n1, n2): # euclidean distances truncated to one decimal place \n",
    "    x1,y1 = n1; x2,y2 = n2\n",
    "    return round(math.sqrt((x1 - x2)**2+ (y1 - y2)**2),1)"
   ]
  },
  {
   "cell_type": "code",
   "execution_count": 13,
   "metadata": {},
   "outputs": [],
   "source": [
    "edges_df = []\n",
    "node_list = sorted(df['CUST NO.'].to_list())\n",
    "times_df = pd.DataFrame(index=node_list, columns = node_list)\n",
    "for i in node_list:\n",
    "    for j in node_list:\n",
    "        dist = Euclidean(nodes_df.loc[i],nodes_df.loc[j])\n",
    "        times_df[i][j] = dist\n",
    "        if i != j:\n",
    "            edges_df.append([i, j, dist])\n",
    "pd.DataFrame(edges_df).to_csv('data/map/edges.csv', header=False, index=False)\n",
    "times_df.to_csv('data/map/times.csv', header=False, index=False)"
   ]
  },
  {
   "cell_type": "code",
   "execution_count": 14,
   "metadata": {},
   "outputs": [],
   "source": [
    "# vehicle should start at the depot\n",
    "depot_lat, depot_lon = df[['XCOORD.', 'YCOORD.']].iloc[0]\n"
   ]
  },
  {
   "cell_type": "code",
   "execution_count": 15,
   "metadata": {},
   "outputs": [],
   "source": [
    "vehicle_df = []\n",
    "for id in range(V):\n",
    "    # columns are [id, start node, lat, lon, start time, capacity]\n",
    "    vehicle_df.append([id, 1, depot_lat, depot_lon, time.strftime('%H:%M:%S', time.gmtime(0)), Q])\n",
    "pd.DataFrame(vehicle_df).to_csv('data/vehicles/vehicles.csv', header=False, index=False)"
   ]
  },
  {
   "cell_type": "code",
   "execution_count": 31,
   "metadata": {},
   "outputs": [],
   "source": [
    "request_column = ['pickup_id', 'pickup_x', 'pickup_y', 'dropoff_id', 'dropoff_x', 'dropoff_y', 'request_time', \n",
    "                  'waiting_time', 'demand']"
   ]
  },
  {
   "cell_type": "code",
   "execution_count": 28,
   "metadata": {},
   "outputs": [
    {
     "data": {
      "text/html": [
       "<div>\n",
       "<style scoped>\n",
       "    .dataframe tbody tr th:only-of-type {\n",
       "        vertical-align: middle;\n",
       "    }\n",
       "\n",
       "    .dataframe tbody tr th {\n",
       "        vertical-align: top;\n",
       "    }\n",
       "\n",
       "    .dataframe thead th {\n",
       "        text-align: right;\n",
       "    }\n",
       "</style>\n",
       "<table border=\"1\" class=\"dataframe\">\n",
       "  <thead>\n",
       "    <tr style=\"text-align: right;\">\n",
       "      <th></th>\n",
       "      <th>CUST NO.</th>\n",
       "      <th>XCOORD.</th>\n",
       "      <th>YCOORD.</th>\n",
       "      <th>DEMAND</th>\n",
       "      <th>READY TIME</th>\n",
       "      <th>DUE DATE</th>\n",
       "      <th>SERVICE TIME</th>\n",
       "    </tr>\n",
       "  </thead>\n",
       "  <tbody>\n",
       "    <tr>\n",
       "      <th>0</th>\n",
       "      <td>1</td>\n",
       "      <td>50</td>\n",
       "      <td>50</td>\n",
       "      <td>0</td>\n",
       "      <td>0</td>\n",
       "      <td>200</td>\n",
       "      <td>0</td>\n",
       "    </tr>\n",
       "    <tr>\n",
       "      <th>1</th>\n",
       "      <td>2</td>\n",
       "      <td>35</td>\n",
       "      <td>65</td>\n",
       "      <td>10</td>\n",
       "      <td>45</td>\n",
       "      <td>50</td>\n",
       "      <td>10</td>\n",
       "    </tr>\n",
       "    <tr>\n",
       "      <th>2</th>\n",
       "      <td>3</td>\n",
       "      <td>30</td>\n",
       "      <td>55</td>\n",
       "      <td>30</td>\n",
       "      <td>50</td>\n",
       "      <td>80</td>\n",
       "      <td>10</td>\n",
       "    </tr>\n",
       "    <tr>\n",
       "      <th>3</th>\n",
       "      <td>4</td>\n",
       "      <td>40</td>\n",
       "      <td>45</td>\n",
       "      <td>10</td>\n",
       "      <td>0</td>\n",
       "      <td>20</td>\n",
       "      <td>10</td>\n",
       "    </tr>\n",
       "    <tr>\n",
       "      <th>4</th>\n",
       "      <td>5</td>\n",
       "      <td>55</td>\n",
       "      <td>70</td>\n",
       "      <td>20</td>\n",
       "      <td>0</td>\n",
       "      <td>100</td>\n",
       "      <td>10</td>\n",
       "    </tr>\n",
       "    <tr>\n",
       "      <th>5</th>\n",
       "      <td>6</td>\n",
       "      <td>75</td>\n",
       "      <td>50</td>\n",
       "      <td>10</td>\n",
       "      <td>50</td>\n",
       "      <td>70</td>\n",
       "      <td>10</td>\n",
       "    </tr>\n",
       "    <tr>\n",
       "      <th>6</th>\n",
       "      <td>7</td>\n",
       "      <td>54</td>\n",
       "      <td>35</td>\n",
       "      <td>20</td>\n",
       "      <td>17</td>\n",
       "      <td>20</td>\n",
       "      <td>10</td>\n",
       "    </tr>\n",
       "  </tbody>\n",
       "</table>\n",
       "</div>"
      ],
      "text/plain": [
       "   CUST NO.  XCOORD.  YCOORD.  DEMAND  READY TIME  DUE DATE  SERVICE TIME\n",
       "0         1       50       50       0           0       200             0\n",
       "1         2       35       65      10          45        50            10\n",
       "2         3       30       55      30          50        80            10\n",
       "3         4       40       45      10           0        20            10\n",
       "4         5       55       70      20           0       100            10\n",
       "5         6       75       50      10          50        70            10\n",
       "6         7       54       35      20          17        20            10"
      ]
     },
     "execution_count": 28,
     "metadata": {},
     "output_type": "execute_result"
    }
   ],
   "source": [
    "df"
   ]
  },
  {
   "cell_type": "code",
   "execution_count": 32,
   "metadata": {},
   "outputs": [],
   "source": [
    "# columns are [request_id, pickup_id, pickup_x, pickup_y, \n",
    "# dropoff_id, dropoff_x, dropoff_y, request_time]\n",
    "request_df = []\n",
    "for i in range(1, len(df)):\n",
    "    request_df.append([df['CUST NO.'].iloc[i], df['XCOORD.'].iloc[i], df['YCOORD.'].iloc[i], \n",
    "    1, df['XCOORD.'].iloc[0], df['YCOORD.'].iloc[0], time.strftime('%H:%M:%S', time.gmtime(df['READY TIME'].iloc[i])),\n",
    "    df['DUE DATE'].iloc[i]-df['READY TIME'].iloc[i], df['DEMAND'].iloc[i]])"
   ]
  },
  {
   "cell_type": "code",
   "execution_count": 33,
   "metadata": {},
   "outputs": [],
   "source": [
    "pd.DataFrame(request_df, columns = request_column).to_csv('data/requests/requests.csv', header=False)"
   ]
  },
  {
   "cell_type": "markdown",
   "metadata": {},
   "source": [
    "## 2.  Translate CVRPTW instances to simulator inputs. \n",
    "- Set vehicle limit to NUMBER\n",
    "- Set carsize to CAPACITY\n",
    "- Set pickup time to READY TIME and pickup location to the customer location (XCOORD., YCOORD.)\n",
    "- Set dropoff location to the depot\n",
    "- Set requests **specific waiting time** to (DUE DATE- READY TIME)\n",
    "- Set maximum detour time to be large enough value (DUE DATE of the depot)\n",
    "- Set dwell time (alighting) to SERVICE TIME (it is constant in an instance)\n",
    "- **Need to select interval**\n",
    "- set DUE DATE of the depot to FINAL_TIME \n",
    "\n",
    "## 3. Lists of modifying simulator\n",
    "### 3.1. Set requests specific waiting time\n",
    "### 3.2. Set requests specific demands quantity $q_i$   \n",
    "- Generate $q_i$ separate requests (if the demand of each customer is allowed to be served by multiple vehicles).  \n",
    "- **Update the number of passengers in the vehicle by increasing $q_i$** (if not allowed).    "
   ]
  }
 ],
 "metadata": {
  "kernelspec": {
   "display_name": "Python 3 (ipykernel)",
   "language": "python",
   "name": "python3"
  },
  "language_info": {
   "codemirror_mode": {
    "name": "ipython",
    "version": 3
   },
   "file_extension": ".py",
   "mimetype": "text/x-python",
   "name": "python",
   "nbconvert_exporter": "python",
   "pygments_lexer": "ipython3",
   "version": "3.7.11"
  }
 },
 "nbformat": 4,
 "nbformat_minor": 4
}
